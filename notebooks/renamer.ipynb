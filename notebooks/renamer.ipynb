{
 "cells": [
  {
   "cell_type": "code",
   "execution_count": 109,
   "metadata": {},
   "outputs": [],
   "source": [
    "import os\n",
    "import re\n",
    "\n",
    "patterns = {\n",
    "    r\"\\bany2json\\b\": \"archery\",\n",
    "    r\"\\bany2Json\\b\": \"archery\",\n",
    "    r\"\\bAny2json\\b\": \"Archery\",\n",
    "    r\"\\bAny2Json\\b\": \"Archery\",\n",
    "}\n",
    "\n",
    "ignores = [\".git\", \"target\"]\n",
    "\n",
    "includes = [\".java\", \".xml\", \".yml\", \".text\", \".md\", \".gitignore\", \"justfile\"]"
   ]
  },
  {
   "cell_type": "markdown",
   "metadata": {},
   "source": [
    "Collect all changes:\n",
    "- lines containing patterns\n",
    "- part of file name containing patterns\n",
    "- part of directory name containing patterns"
   ]
  },
  {
   "cell_type": "code",
   "execution_count": null,
   "metadata": {},
   "outputs": [],
   "source": [
    "def collect_rename_actions(root, name, verb):\n",
    "    path = os.path.join(root, name)\n",
    "    for pattern in patterns:\n",
    "        if re.search(pattern, name):\n",
    "            new_name = re.sub(pattern, patterns[pattern], name)\n",
    "            new_path = os.path.join(root, new_name)\n",
    "            yield (verb, path, new_path)\n",
    "\n",
    "\n",
    "def collect_file_patches(root, name):\n",
    "    path = os.path.join(root, name)\n",
    "    with open(path, \"r\") as f:\n",
    "        for line, text in enumerate(f.readlines()):\n",
    "            new_text = text\n",
    "            for pattern in patterns:\n",
    "                if re.search(pattern, new_text):\n",
    "                    new_text = re.sub(pattern, patterns[pattern], new_text)\n",
    "            if new_text != text:\n",
    "                yield (line, new_text)\n",
    "\n",
    "\n",
    "def collect_directory_actions(root, name):\n",
    "    for action in collect_rename_actions(root, name, \"rename_dir\"):\n",
    "        yield action\n",
    "\n",
    "\n",
    "def collect_file_actions(root, name):\n",
    "    for action in collect_rename_actions(root, name, \"rename_file\"):\n",
    "        yield action\n",
    "\n",
    "    if not any((name.endswith(x) for x in includes)):\n",
    "        return\n",
    "\n",
    "    patches = list(collect_file_patches(root, name))\n",
    "    if len(patches) > 0:\n",
    "        file_path = os.path.join(root, name)\n",
    "        yield (\"patch_file\", file_path, patches)\n",
    "\n",
    "\n",
    "def collect_all_actions(root_path):\n",
    "    for root, dirs, files in os.walk(root_path):\n",
    "        for idx, name in enumerate(dirs):\n",
    "            if name in ignores:\n",
    "                del dirs[idx]\n",
    "            else:\n",
    "                for action in collect_directory_actions(root, name):\n",
    "                    yield action\n",
    "        for name in files:\n",
    "            for action in collect_file_actions(root, name):\n",
    "                yield action\n",
    "\n",
    "\n",
    "actions = list(collect_all_actions(\"/mnt/media/Projects/Any2Json\"))\n",
    "display(list(reversed(actions)))"
   ]
  },
  {
   "cell_type": "markdown",
   "metadata": {},
   "source": [
    "Apply all changes"
   ]
  },
  {
   "cell_type": "code",
   "execution_count": 120,
   "metadata": {},
   "outputs": [],
   "source": [
    "def apply_file_patches(path, patches):\n",
    "    os.rename(path, path + \".old\")\n",
    "    with open(path + \".old\", \"r\") as fs:\n",
    "        buffer = fs.readlines()\n",
    "        for line, text in patches:\n",
    "            buffer[line] = text\n",
    "        with open(path, \"w\") as fd:\n",
    "            fd.writelines(buffer)\n",
    "\n",
    "\n",
    "for action in reversed(actions):\n",
    "    verb, path, data = action\n",
    "    match verb:\n",
    "        case \"patch_file\":\n",
    "            patches = data\n",
    "            apply_file_patches(path, patches)\n",
    "        case \"rename_file\":\n",
    "            new_path = data\n",
    "            os.rename(path, new_path)\n",
    "\n",
    "for action in reversed(actions):\n",
    "    verb, path, data = action\n",
    "    match verb:\n",
    "        case \"rename_dir\":\n",
    "            new_path = data\n",
    "            os.rename(path, new_path)"
   ]
  },
  {
   "cell_type": "markdown",
   "metadata": {},
   "source": [
    "Cleanup"
   ]
  },
  {
   "cell_type": "code",
   "execution_count": 121,
   "metadata": {},
   "outputs": [],
   "source": [
    "for root, _dirs, files in os.walk(\"/mnt/media/Projects/Any2Json\"):\n",
    "    for name in files:\n",
    "        if name.endswith(\".old\"):\n",
    "            path = os.path.join(root, name)\n",
    "            os.remove(path)"
   ]
  }
 ],
 "metadata": {
  "kernelspec": {
   "display_name": ".venv",
   "language": "python",
   "name": "python3"
  },
  "language_info": {
   "codemirror_mode": {
    "name": "ipython",
    "version": 3
   },
   "file_extension": ".py",
   "mimetype": "text/x-python",
   "name": "python",
   "nbconvert_exporter": "python",
   "pygments_lexer": "ipython3",
   "version": "3.11.4"
  }
 },
 "nbformat": 4,
 "nbformat_minor": 2
}
