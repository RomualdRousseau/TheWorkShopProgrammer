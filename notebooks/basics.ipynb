{
 "cells": [
  {
   "cell_type": "markdown",
   "metadata": {},
   "source": [
    "# Basics of Natural Language Processing\n",
    "\n",
    "The basics steps:\n",
    "\n",
    "- Pattern recognition\n",
    "- Cleansing\n",
    "- Tokenize\n",
    "- Lemmenize\n",
    "- Statitics\n",
    "- Remove stop words\n"
   ]
  },
  {
   "cell_type": "markdown",
   "metadata": {},
   "source": [
    "Let's import some python stuffs\n"
   ]
  },
  {
   "cell_type": "code",
   "execution_count": 1,
   "metadata": {},
   "outputs": [],
   "source": [
    "import re\n",
    "import math\n",
    "\n",
    "import matplotlib.pyplot as plt"
   ]
  },
  {
   "cell_type": "markdown",
   "metadata": {},
   "source": [
    "Then we need a little bit of data.\n",
    "\n",
    "Format:\n",
    "list of tuple (document, label)\n"
   ]
  },
  {
   "cell_type": "code",
   "execution_count": 2,
   "metadata": {},
   "outputs": [],
   "source": [
    "documents = [\n",
    "    (\"I am happy\", \"happy\"),\n",
    "    (\"I am not sad\", \"happy\"),\n",
    "    (\"I am sad\", \"sad\"),\n",
    "    (\"I am not happy\", \"sad\"),\n",
    "    (\"John Doe is good\", \"happy\"),\n",
    "    (\"John John Doe is bad\", \"sad\"),\n",
    "]"
   ]
  },
  {
   "cell_type": "markdown",
   "metadata": {},
   "source": [
    "Let's define some utilities"
   ]
  },
  {
   "cell_type": "code",
   "execution_count": 3,
   "metadata": {},
   "outputs": [],
   "source": [
    "def map_first(fn, list_tuples):\n",
    "    return list(map(lambda x: (fn(x[0]), x[1]), list_tuples))\n",
    "\n",
    "\n",
    "def map_second(fn, list_tuples):\n",
    "    return list(map(lambda x: (x[0], fn(x[1])), list_tuples))\n",
    "\n",
    "\n",
    "def map_apply(fn):\n",
    "    return lambda x: list(map(fn, x))"
   ]
  },
  {
   "cell_type": "markdown",
   "metadata": {},
   "source": [
    "Let's start ...\n"
   ]
  },
  {
   "cell_type": "markdown",
   "metadata": {},
   "source": [
    "## Variables"
   ]
  },
  {
   "cell_type": "code",
   "execution_count": 4,
   "metadata": {},
   "outputs": [
    {
     "data": {
      "text/plain": [
       "([('I am happy', 'happy'),\n",
       "  ('I am not sad', 'happy'),\n",
       "  ('I am sad', 'sad'),\n",
       "  ('I am not happy', 'sad'),\n",
       "  ('__person0 is good', 'happy'),\n",
       "  ('__person1 is bad', 'sad')],\n",
       " {'__person0': 'John Doe', '__person1': 'John John Doe'})"
      ]
     },
     "execution_count": 4,
     "metadata": {},
     "output_type": "execute_result"
    }
   ],
   "source": [
    "n = 0\n",
    "\n",
    "entitites = {\"__person\": r\"\\b[A-Z]\\w+(\\s+[A-Z]\\w+)*\\b\"}\n",
    "\n",
    "variables = {}\n",
    "\n",
    "\n",
    "def simple_cleanser(doc):\n",
    "    global n\n",
    "    for k, v in entitites.items():\n",
    "        completed = False\n",
    "        while not completed:\n",
    "            match = re.search(v, doc)\n",
    "            completed = match is None\n",
    "            if not completed:\n",
    "                var_name, var_value = k + str(n), match.group()\n",
    "                n += 1\n",
    "\n",
    "                variables[var_name] = var_value\n",
    "\n",
    "                s, e = match.span()\n",
    "                doc = doc[:s] + var_name + doc[e:]\n",
    "        return doc\n",
    "\n",
    "\n",
    "var_documents = map_first(simple_cleanser, documents)\n",
    "var_documents, variables"
   ]
  },
  {
   "cell_type": "markdown",
   "metadata": {},
   "source": [
    "## Cleansing\n"
   ]
  },
  {
   "cell_type": "code",
   "execution_count": 5,
   "metadata": {},
   "outputs": [
    {
     "data": {
      "text/plain": [
       "[('i am happy', 'happy'),\n",
       " ('i am not sad', 'happy'),\n",
       " ('i am sad', 'sad'),\n",
       " ('i am not happy', 'sad'),\n",
       " ('__person0 is good', 'happy'),\n",
       " ('__person1 is bad', 'sad')]"
      ]
     },
     "execution_count": 5,
     "metadata": {},
     "output_type": "execute_result"
    }
   ],
   "source": [
    "def simple_cleanser(doc):\n",
    "    return doc.lower()\n",
    "\n",
    "\n",
    "cleansed_documents = map_first(simple_cleanser, var_documents)\n",
    "cleansed_documents"
   ]
  },
  {
   "cell_type": "markdown",
   "metadata": {},
   "source": [
    "## Tokenize\n"
   ]
  },
  {
   "cell_type": "code",
   "execution_count": 6,
   "metadata": {},
   "outputs": [
    {
     "data": {
      "text/plain": [
       "[(['i', 'am', 'happy'], 'happy'),\n",
       " (['i', 'am', 'not', 'sad'], 'happy'),\n",
       " (['i', 'am', 'sad'], 'sad'),\n",
       " (['i', 'am', 'not', 'happy'], 'sad'),\n",
       " (['__person0', 'is', 'good'], 'happy'),\n",
       " (['__person1', 'is', 'bad'], 'sad')]"
      ]
     },
     "execution_count": 6,
     "metadata": {},
     "output_type": "execute_result"
    }
   ],
   "source": [
    "def simple_tokenizer(doc):\n",
    "    return doc.split(\" \")\n",
    "\n",
    "\n",
    "tokenized_documents = map_first(simple_tokenizer, cleansed_documents)\n",
    "tokenized_documents"
   ]
  },
  {
   "cell_type": "markdown",
   "metadata": {},
   "source": [
    "## Lemmenize\n"
   ]
  },
  {
   "cell_type": "code",
   "execution_count": 7,
   "metadata": {},
   "outputs": [
    {
     "data": {
      "text/plain": [
       "[(['i', 'be', 'happy'], 'happy'),\n",
       " (['i', 'be', 'not', 'sad'], 'happy'),\n",
       " (['i', 'be', 'sad'], 'sad'),\n",
       " (['i', 'be', 'not', 'happy'], 'sad'),\n",
       " (['__person0', 'be', 'good'], 'happy'),\n",
       " (['__person1', 'be', 'bad'], 'sad')]"
      ]
     },
     "execution_count": 7,
     "metadata": {},
     "output_type": "execute_result"
    }
   ],
   "source": [
    "lexicon = {\n",
    "    \"be\": r\"be|am|are|is\",\n",
    "    \"happy\": r\"happ(y|iest)\",\n",
    "    \"sad\": r\"sad(est)?\",\n",
    "}\n",
    "\n",
    "\n",
    "def simple_lemmenizer(token):\n",
    "    return next(filter(lambda x: re.search(lexicon[x], token) is not None, lexicon), token)\n",
    "\n",
    "\n",
    "lemmenized_documents = map_first(map_apply(simple_lemmenizer), tokenized_documents)\n",
    "lemmenized_documents"
   ]
  },
  {
   "cell_type": "markdown",
   "metadata": {},
   "source": [
    "## Statistics"
   ]
  },
  {
   "cell_type": "code",
   "execution_count": 8,
   "metadata": {},
   "outputs": [
    {
     "data": {
      "text/plain": [
       "['__person0', '__person1', 'bad', 'be', 'good', 'happy', 'i', 'not', 'sad']"
      ]
     },
     "execution_count": 8,
     "metadata": {},
     "output_type": "execute_result"
    }
   ],
   "source": [
    "vocabulary = sorted({token for tokens, _ in lemmenized_documents for token in tokens})\n",
    "vocabulary"
   ]
  },
  {
   "cell_type": "markdown",
   "metadata": {},
   "source": [
    "Compute term frequency for each document (tf)"
   ]
  },
  {
   "cell_type": "code",
   "execution_count": 9,
   "metadata": {},
   "outputs": [
    {
     "data": {
      "text/plain": [
       "[{'__person0': 0.0,\n",
       "  '__person1': 0.0,\n",
       "  'bad': 0.0,\n",
       "  'be': 0.3333333333333333,\n",
       "  'good': 0.0,\n",
       "  'happy': 0.3333333333333333,\n",
       "  'i': 0.3333333333333333,\n",
       "  'not': 0.0,\n",
       "  'sad': 0.0},\n",
       " {'__person0': 0.0,\n",
       "  '__person1': 0.0,\n",
       "  'bad': 0.0,\n",
       "  'be': 0.25,\n",
       "  'good': 0.0,\n",
       "  'happy': 0.0,\n",
       "  'i': 0.25,\n",
       "  'not': 0.25,\n",
       "  'sad': 0.25},\n",
       " {'__person0': 0.0,\n",
       "  '__person1': 0.0,\n",
       "  'bad': 0.0,\n",
       "  'be': 0.3333333333333333,\n",
       "  'good': 0.0,\n",
       "  'happy': 0.0,\n",
       "  'i': 0.3333333333333333,\n",
       "  'not': 0.0,\n",
       "  'sad': 0.3333333333333333},\n",
       " {'__person0': 0.0,\n",
       "  '__person1': 0.0,\n",
       "  'bad': 0.0,\n",
       "  'be': 0.25,\n",
       "  'good': 0.0,\n",
       "  'happy': 0.25,\n",
       "  'i': 0.25,\n",
       "  'not': 0.25,\n",
       "  'sad': 0.0},\n",
       " {'__person0': 0.3333333333333333,\n",
       "  '__person1': 0.0,\n",
       "  'bad': 0.0,\n",
       "  'be': 0.3333333333333333,\n",
       "  'good': 0.3333333333333333,\n",
       "  'happy': 0.0,\n",
       "  'i': 0.0,\n",
       "  'not': 0.0,\n",
       "  'sad': 0.0},\n",
       " {'__person0': 0.0,\n",
       "  '__person1': 0.3333333333333333,\n",
       "  'bad': 0.3333333333333333,\n",
       "  'be': 0.3333333333333333,\n",
       "  'good': 0.0,\n",
       "  'happy': 0.0,\n",
       "  'i': 0.0,\n",
       "  'not': 0.0,\n",
       "  'sad': 0.0}]"
      ]
     },
     "execution_count": 9,
     "metadata": {},
     "output_type": "execute_result"
    }
   ],
   "source": [
    "def term_frequency_in_doc(tokens):\n",
    "    sum_t = len(tokens)\n",
    "    t_f = [(token, 1) for token in tokens]\n",
    "    return {\n",
    "        word: sum([f for t, f in t_f if t == word]) / sum_t for word in vocabulary\n",
    "    }\n",
    "\n",
    "\n",
    "term_frequencies = [term_frequency_in_doc(tokens) for tokens, _ in lemmenized_documents]\n",
    "term_frequencies"
   ]
  },
  {
   "cell_type": "markdown",
   "metadata": {},
   "source": [
    "Compute inverse document frequency (idf)\n"
   ]
  },
  {
   "cell_type": "code",
   "execution_count": 10,
   "metadata": {},
   "outputs": [
    {
     "data": {
      "text/plain": [
       "{'__person0': 1.791759469228055,\n",
       " '__person1': 1.791759469228055,\n",
       " 'bad': 1.791759469228055,\n",
       " 'be': -0.0,\n",
       " 'good': 1.791759469228055,\n",
       " 'happy': 1.0986122886681098,\n",
       " 'i': 0.40546510810816444,\n",
       " 'not': 1.0986122886681098,\n",
       " 'sad': 1.0986122886681098}"
      ]
     },
     "execution_count": 10,
     "metadata": {},
     "output_type": "execute_result"
    }
   ],
   "source": [
    "def inverse_document_frequency(word):\n",
    "    sum_d = len(lemmenized_documents)\n",
    "    t_f = [\n",
    "        (word, 1 if word in tokens else 0)\n",
    "        for word in vocabulary\n",
    "        for tokens, _ in lemmenized_documents\n",
    "    ]\n",
    "    n_t = sum([f for t, f in t_f if t == word])\n",
    "    return -math.log(n_t / sum_d)\n",
    "\n",
    "\n",
    "inverse_document_frequencies = {\n",
    "    word: inverse_document_frequency(word) for word in vocabulary\n",
    "}\n",
    "inverse_document_frequencies"
   ]
  },
  {
   "cell_type": "markdown",
   "metadata": {},
   "source": [
    "Let's put all together"
   ]
  },
  {
   "cell_type": "code",
   "execution_count": 11,
   "metadata": {},
   "outputs": [
    {
     "data": {
      "text/plain": [
       "[([('i', 0.1351550360360548), ('be', -0.0), ('happy', 0.3662040962227032)],\n",
       "  'happy'),\n",
       " ([('i', 0.10136627702704111),\n",
       "   ('be', -0.0),\n",
       "   ('not', 0.27465307216702745),\n",
       "   ('sad', 0.27465307216702745)],\n",
       "  'happy'),\n",
       " ([('i', 0.1351550360360548), ('be', -0.0), ('sad', 0.3662040962227032)],\n",
       "  'sad'),\n",
       " ([('i', 0.10136627702704111),\n",
       "   ('be', -0.0),\n",
       "   ('not', 0.27465307216702745),\n",
       "   ('happy', 0.27465307216702745)],\n",
       "  'sad'),\n",
       " ([('__person0', 0.5972531564093516),\n",
       "   ('be', -0.0),\n",
       "   ('good', 0.5972531564093516)],\n",
       "  'happy'),\n",
       " ([('__person1', 0.5972531564093516),\n",
       "   ('be', -0.0),\n",
       "   ('bad', 0.5972531564093516)],\n",
       "  'sad')]"
      ]
     },
     "execution_count": 11,
     "metadata": {},
     "output_type": "execute_result"
    }
   ],
   "source": [
    "def tf_idf(doc, token):\n",
    "    return term_frequencies[doc][token] * inverse_document_frequencies[token]\n",
    "\n",
    "\n",
    "tf_idfs = [\n",
    "    ([(token, tf_idf(doc, token)) for token in tokens], label)\n",
    "    for doc, (tokens, label) in enumerate(lemmenized_documents)\n",
    "]\n",
    "tf_idfs"
   ]
  },
  {
   "cell_type": "markdown",
   "metadata": {},
   "source": [
    "## Remove stop words"
   ]
  },
  {
   "cell_type": "code",
   "execution_count": 12,
   "metadata": {},
   "outputs": [
    {
     "data": {
      "text/plain": [
       "[(['i', 'happy'], 'happy'),\n",
       " (['i', 'not', 'sad'], 'happy'),\n",
       " (['i', 'sad'], 'sad'),\n",
       " (['i', 'not', 'happy'], 'sad'),\n",
       " (['__person0', 'good'], 'happy'),\n",
       " (['__person1', 'bad'], 'sad')]"
      ]
     },
     "execution_count": 12,
     "metadata": {},
     "output_type": "execute_result"
    }
   ],
   "source": [
    "final_documents = [([token for token, tf_idf in tokens if tf_idf > 0], label) for tokens, label in tf_idfs]\n",
    "final_documents"
   ]
  },
  {
   "cell_type": "code",
   "execution_count": 13,
   "metadata": {},
   "outputs": [
    {
     "data": {
      "image/png": "[encoded data removed]",
      "text/plain": [
       "<Figure size 640x480 with 1 Axes>"
      ]
     },
     "metadata": {},
     "output_type": "display_data"
    }
   ],
   "source": [
    "x = [sum([tf_idf for token, tf_idf in tokens if tf_idf > 0]) for tokens, _ in tf_idfs]\n",
    "y = [sum([tf_idf for token, tf_idf in tokens if tf_idf > 0]) for tokens, _ in tf_idfs]\n",
    "n = [label for _, label in tf_idfs]\n",
    "\n",
    "plt.scatter(x, y)\n",
    "for x, y, n in zip(x, y, n):\n",
    "     plt.annotate(n, (x, y))"
   ]
  }
 ],
 "metadata": {
  "kernelspec": {
   "display_name": ".venv",
   "language": "python",
   "name": "python3"
  },
  "language_info": {
   "codemirror_mode": {
    "name": "ipython",
    "version": 3
   },
   "file_extension": ".py",
   "mimetype": "text/x-python",
   "name": "python",
   "nbconvert_exporter": "python",
   "pygments_lexer": "ipython3",
   "version": "3.11.4"
  }
 },
 "nbformat": 4,
 "nbformat_minor": 2
}
