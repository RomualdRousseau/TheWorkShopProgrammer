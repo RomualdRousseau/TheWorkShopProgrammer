{
 "cells": [
  {
   "cell_type": "code",
   "execution_count": 9,
   "metadata": {},
   "outputs": [],
   "source": [
    "%reload_ext dotenv\n",
    "%dotenv\n",
    "\n",
    "import os\n",
    "\n",
    "config = {\n",
    "    \"server\": os.environ[\"MSSQL_SERVER\"],\n",
    "    \"database\": os.environ[\"MSSQL_DATABASE\"],\n",
    "    \"uid\": os.environ[\"MSSQL_UID\"],\n",
    "    \"pwd\": os.environ[\"MSSQL_PWD\"],\n",
    "}"
   ]
  },
  {
   "cell_type": "code",
   "execution_count": null,
   "metadata": {},
   "outputs": [],
   "source": [
    "import pyodbc\n",
    "\n",
    "sql_server_drivers = list(filter(lambda x: \"SQL Server\" in x, pyodbc.drivers()))\n",
    "conn_str = (\n",
    "    f\"DRIVER={{{sql_server_drivers[0]}}};\"\n",
    "    f'SERVER=tcp:{config[\"server\"]};PORT=1433;'\n",
    "    f'DATABASE={config[\"database\"]};'\n",
    "    f'UID={config[\"uid\"]};'\n",
    "    f'PWD={config[\"pwd\"]}'\n",
    ")\n",
    "display(conn_str)\n",
    "\n",
    "with pyodbc.connect(conn_str) as conn:\n",
    "    with conn.cursor() as cursor:\n",
    "        cursor.execute(\"select 1\")"
   ]
  },
  {
   "cell_type": "code",
   "execution_count": null,
   "metadata": {},
   "outputs": [],
   "source": [
    "import pytds\n",
    "\n",
    "with pytds.connect(dsn=config[\"server\"], database=config[\"database\"], user=config[\"uid\"], password=config[\"pwd\"]) as conn:\n",
    "    with conn.cursor() as cursor:\n",
    "        cursor.execute(\"select 1\")"
   ]
  },
  {
   "cell_type": "code",
   "execution_count": null,
   "metadata": {},
   "outputs": [],
   "source": [
    "# import duckdb\n",
    "import miniab as ab\n",
    "\n",
    "source = ab.get_source(\n",
    "    \"source-mssql\",\n",
    "    config = config,\n",
    "    sync = True\n",
    ")\n",
    "source.select_all_streams()\n",
    "source.check()\n",
    "\n",
    "cache = ab.get_default_cache()\n",
    "result = source.read(cache=cache)\n",
    "\n",
    "# dim_pack_tbl = result.to_arrow(\"dim_pack\")\n",
    "# duckdb.sql(\"SELECT * FROM dim_pack_tbl LIMIT 10;\").show()"
   ]
  }
 ],
 "metadata": {
  "kernelspec": {
   "display_name": ".venv",
   "language": "python",
   "name": "python3"
  },
  "language_info": {
   "codemirror_mode": {
    "name": "ipython",
    "version": 3
   },
   "file_extension": ".py",
   "mimetype": "text/x-python",
   "name": "python",
   "nbconvert_exporter": "python",
   "pygments_lexer": "ipython3",
   "version": "3.11.4"
  }
 },
 "nbformat": 4,
 "nbformat_minor": 2
}
