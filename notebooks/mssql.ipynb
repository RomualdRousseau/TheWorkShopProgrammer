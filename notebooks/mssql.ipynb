{
 "cells": [
  {
   "cell_type": "markdown",
   "metadata": {},
   "source": [
    "# Tests MSSQL Python\n",
    "\n",
    "Frist create a .env file:\n",
    "\n",
    "```env\n",
    "MSSQL_HOST=\"...\"\n",
    "MSSQL_PORT=1433\n",
    "MSSQL_DATABASE=\"...\"\n",
    "MSSQL_SCHEMA=\"dbo\"\n",
    "MSSQL_USERNAME=\"...\"\n",
    "MSSQL_PASSWORD=\"...\"\n",
    "```"
   ]
  },
  {
   "cell_type": "code",
   "execution_count": 1,
   "metadata": {},
   "outputs": [],
   "source": [
    "%reload_ext dotenv\n",
    "%dotenv\n",
    "\n",
    "import os\n",
    "\n",
    "config = {\n",
    "    \"host\": os.getenv(\"MSSQL_HOST\"),\n",
    "    \"port\": int(os.getenv(\"MSSQL_PORT\") or 0),\n",
    "    \"database\": os.getenv(\"MSSQL_DATABASE\"),\n",
    "    \"schema\": os.getenv(\"MSSQL_SCHEMA\") or \"dbo\",\n",
    "    \"username\": os.getenv(\"MSSQL_USERNAME\"),\n",
    "    \"password\": os.getenv(\"MSSQL_PASSWORD\"),\n",
    "}"
   ]
  },
  {
   "cell_type": "markdown",
   "metadata": {},
   "source": [
    "## PyODBC\n",
    "\n",
    "**Microsoft ODBC Driver for SQL Server is required before to install pyodbc**.\n",
    "\n",
    "Please follow the instructions to install the driver for your OS. See the [docs](https://learn.microsoft.com/en-us/sql/connect/odbc/microsoft-odbc-driver-for-sql-server) for details.\n",
    "\n",
    "To install run this command:\n",
    "```bash\n",
    "poetry add pyodbc\n",
    "```"
   ]
  },
  {
   "cell_type": "code",
   "execution_count": 2,
   "metadata": {},
   "outputs": [
    {
     "data": {
      "text/plain": [
       "'DRIVER={SQL Server};SERVER=tcp:ap50-tst-datal-sqlmi01.33b9b5988eba.database.windows.net;PORT=1433;DATABASE=Dictionary_VN;UID=datafactory;PWD=7TE7rxMnTwM9V'"
      ]
     },
     "metadata": {},
     "output_type": "display_data"
    },
    {
     "data": {
      "text/plain": [
       "[('Dictionary_VN', 'dbo', 'Dic_Customer', 'BASE TABLE'),\n",
       " ('Dictionary_VN', 'dbo', 'ZetaDate-2019-2020', 'BASE TABLE'),\n",
       " ('Dictionary_VN', 'dbo', 'ZetaDate-2021-2023', 'BASE TABLE'),\n",
       " ('Dictionary_VN', 'dbo', 'U_Dic_Territory_Bonus', 'BASE TABLE'),\n",
       " ('Dictionary_VN', 'dbo', 'ZetaData_Market', 'BASE TABLE'),\n",
       " ('Dictionary_VN', 'dbo', 'Ref_Activity2Score', 'BASE TABLE'),\n",
       " ('Dictionary_VN', 'dbo', 'U_Dic_Territory', 'BASE TABLE'),\n",
       " ('Dictionary_VN', 'dbo', 'Ref_ActivityPayRoll', 'BASE TABLE'),\n",
       " ('Dictionary_VN', 'dbo', 'Ref_EventCost', 'BASE TABLE'),\n",
       " ('Dictionary_VN', 'dbo', 'Raw_DKSH', 'BASE TABLE'),\n",
       " ('Dictionary_VN', 'dbo', 'Dic_Product', 'BASE TABLE'),\n",
       " ('Dictionary_VN', 'dbo', 'Corner_Reference', 'BASE TABLE'),\n",
       " ('Dictionary_VN', 'dbo', 'Ref_Specialty_1', 'BASE TABLE'),\n",
       " ('Dictionary_VN', 'dbo', 'Dic_Parameter', 'BASE TABLE'),\n",
       " ('Dictionary_VN', 'dbo', 'Ref_HCP_Type', 'BASE TABLE'),\n",
       " ('Dictionary_VN', 'dbo', 'Ref_HCO_Type', 'BASE TABLE'),\n",
       " ('Dictionary_VN', 'dbo', 'Dic_ProductPrice', 'BASE TABLE'),\n",
       " ('Dictionary_VN', 'dbo', 'Dic_Price', 'BASE TABLE'),\n",
       " ('Dictionary_VN', 'dbo', 'Dic_BusinessLogic', 'BASE TABLE'),\n",
       " ('Dictionary_VN', 'dbo', 'Dic_ProductType', 'BASE TABLE'),\n",
       " ('Dictionary_VN', 'dbo', 'Log_ScheduledProcess', 'BASE TABLE'),\n",
       " ('Dictionary_VN', 'dbo', 'Dic_FIE_FIN2STMS_ProductMapping', 'BASE TABLE'),\n",
       " ('Dictionary_VN', 'dbo', 'Dic_FIE_KDFile2STMS_ProductMapping', 'BASE TABLE'),\n",
       " ('Dictionary_VN', 'dbo', 'Hierarchy', 'BASE TABLE'),\n",
       " ('Dictionary_VN', 'dbo', 'Global_Configuration', 'BASE TABLE'),\n",
       " ('Dictionary_VN', 'dbo', 'Dic_FIE_FIN2STMS_SpiritCodeMapping', 'BASE TABLE'),\n",
       " ('Dictionary_VN', 'dbo', 'Dic_CustomerType', 'BASE TABLE'),\n",
       " ('Dictionary_VN', 'dbo', 'Zeta_Data_MarketShare', 'BASE TABLE'),\n",
       " ('Dictionary_VN', 'dbo', 'Dic_Area2Brick', 'BASE TABLE'),\n",
       " ('Dictionary_VN', 'dbo', 'IS_Satisfaction_Survey_FY2223', 'BASE TABLE'),\n",
       " ('Dictionary_VN', 'dbo', 'Dic_Area2Region', 'BASE TABLE'),\n",
       " ('Dictionary_VN', 'dbo', 'U_Holiday', 'BASE TABLE')]"
      ]
     },
     "metadata": {},
     "output_type": "display_data"
    }
   ],
   "source": [
    "import pyodbc\n",
    "\n",
    "sql_server_drivers = list(filter(lambda x: \"SQL Server\" in x, pyodbc.drivers()))\n",
    "conn_str = (\n",
    "    f\"DRIVER={{{sql_server_drivers[0]}}};\"\n",
    "    f'SERVER=tcp:{config[\"host\"]};PORT={config[\"port\"]};'\n",
    "    f'DATABASE={config[\"database\"]};'\n",
    "    f'UID={config[\"username\"]};'\n",
    "    f'PWD={config[\"password\"]}'\n",
    ")\n",
    "display(conn_str)\n",
    "\n",
    "with pyodbc.connect(conn_str) as conn:\n",
    "    with conn.cursor() as cursor:\n",
    "        rows = cursor.execute(\"SELECT * FROM INFORMATION_SCHEMA.TABLES WHERE TABLE_SCHEMA='dbo' AND TABLE_TYPE='BASE TABLE';\")\n",
    "        display(rows.fetchall())"
   ]
  },
  {
   "cell_type": "markdown",
   "metadata": {},
   "source": [
    "## PyTDS\n",
    "\n",
    "To install run this command:\n",
    "\n",
    "```bash\n",
    "poetry add python-tds\n",
    "```\n",
    "\n",
    "If you want to use TLS you should also install pyOpenSSL package:\n",
    "\n",
    "```bash\n",
    "poetry add pyOpenSSL\n",
    "```\n",
    "\n",
    "For a better performance install bitarray package too:\n",
    "\n",
    "```bash\n",
    "poetry add bitarray\n",
    "```\n",
    "\n",
    "To use Kerberos on non-Windows platforms (experimental) install kerberos package:\n",
    "\n",
    "```bash\n",
    "poetry add kerberos\n",
    "```"
   ]
  },
  {
   "cell_type": "markdown",
   "metadata": {},
   "source": [
    "## MiniAB\n",
    "\n",
    "**miniab** requires duckdb and pyarrow and they should be installed before to use it.\n",
    "\n",
    "To install duckdb and pyarrow run this command:\n",
    "\n",
    "```bash\n",
    "poetry add duckdb pyarrow\n",
    "```"
   ]
  },
  {
   "cell_type": "code",
   "execution_count": 4,
   "metadata": {},
   "outputs": [
    {
     "name": "stdout",
     "output_type": "stream",
     "text": [
      "\u001b[33;1mSync Progress: MsSqlSource -> DuckdbCache\u001b[0m\n",
      "\u001b[37;1mSync completed at 18:47:40. Total time elapsed: 0:00:00\u001b[0m\n",
      "┌────────┬────────────────┬────────────┬───────────┐\n",
      "│ TeamID │    TeamName    │ JobTitleID │ VersionID │\n",
      "│ int32  │    varchar     │   int32    │   int32   │\n",
      "├────────┼────────────────┼────────────┼───────────┤\n",
      "│      2 │ EMERALD        │          5 │         1 │\n",
      "│      3 │ RUBY-PROVINCES │          5 │         1 │\n",
      "│      4 │ SAPHIRE        │          5 │         1 │\n",
      "│      5 │ TOPAZ          │          5 │         1 │\n",
      "│      6 │ JADE           │          5 │         1 │\n",
      "│      7 │ JASPER         │          5 │         1 │\n",
      "│      8 │ RUBY           │          5 │         1 │\n",
      "│     10 │ PKAS           │          8 │         1 │\n",
      "│     22 │ KAS            │          4 │         1 │\n",
      "│     24 │ HKAS           │          7 │         1 │\n",
      "├────────┴────────────────┴────────────┴───────────┤\n",
      "│ 10 rows                                4 columns │\n",
      "└──────────────────────────────────────────────────┘\n",
      "\n"
     ]
    }
   ],
   "source": [
    "import duckdb\n",
    "import miniab as mab\n",
    "\n",
    "source = mab.get_source(\n",
    "    \"source-mssql\",\n",
    "    config = config,\n",
    "    sync = False\n",
    ")\n",
    "source.select_all_streams()\n",
    "source.check()\n",
    "\n",
    "cache = mab.get_default_cache()\n",
    "result = source.read(cache=cache)\n",
    "\n",
    "tteam_tbl = result.to_arrow(\"TTeam\")\n",
    "duckdb.sql(\"SELECT * FROM tteam_tbl LIMIT 10;\").show()"
   ]
  },
  {
   "cell_type": "code",
   "execution_count": null,
   "metadata": {},
   "outputs": [],
   "source": [
    "import duckdb\n",
    "import airbyte as ab\n",
    "\n",
    "source = ab.get_source(\n",
    "    \"source-mssql\",\n",
    "    config = config\n",
    ")\n",
    "source.select_all_streams()\n",
    "source.check()\n",
    "\n",
    "cache = ab.get_default_cache()\n",
    "result = source.read(cache=cache)\n",
    "\n",
    "tteam_tbl = result.to_arrow(\"\")\n",
    "duckdb.sql(\"SELECT * FROM tteam_tbl LIMIT 10;\").show()"
   ]
  }
 ],
 "metadata": {
  "kernelspec": {
   "display_name": "kernel-py311",
   "language": "python",
   "name": "kernel-py311"
  },
  "language_info": {
   "codemirror_mode": {
    "name": "ipython",
    "version": 3
   },
   "file_extension": ".py",
   "mimetype": "text/x-python",
   "name": "python",
   "nbconvert_exporter": "python",
   "pygments_lexer": "ipython3",
   "version": "3.11.7"
  }
 },
 "nbformat": 4,
 "nbformat_minor": 2
}
