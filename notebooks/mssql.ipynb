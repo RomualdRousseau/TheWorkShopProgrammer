{
 "cells": [
  {
   "cell_type": "markdown",
   "metadata": {},
   "source": [
    "# Tests MSSQL Python\n",
    "\n",
    "Frist create a .env file:\n",
    "\n",
    "```env\n",
    "MSSQL_HOST=\"...\"\n",
    "MSSQL_PORT=1433\n",
    "MSSQL_DATABASE=\"...\"\n",
    "MSSQL_SCHEMA=\"dbo\"\n",
    "MSSQL_USERNAME=\"...\"\n",
    "MSSQL_PASSWORD=\"...\"\n",
    "```"
   ]
  },
  {
   "cell_type": "code",
   "execution_count": 1,
   "metadata": {},
   "outputs": [],
   "source": [
    "%reload_ext dotenv\n",
    "%dotenv\n",
    "\n",
    "import os\n",
    "\n",
    "config = {\n",
    "    \"host\": os.getenv(\"MSSQL_HOST\"),\n",
    "    \"port\": int(os.getenv(\"MSSQL_PORT\") or 0),\n",
    "    \"database\": os.getenv(\"MSSQL_DATABASE\"),\n",
    "    \"schema\": os.getenv(\"MSSQL_SCHEMA\") or \"dbo\",\n",
    "    \"username\": os.getenv(\"MSSQL_USERNAME\"),\n",
    "    \"password\": os.getenv(\"MSSQL_PASSWORD\"),\n",
    "}"
   ]
  },
  {
   "cell_type": "markdown",
   "metadata": {},
   "source": [
    "## PyODBC\n",
    "\n",
    "**Microsoft ODBC Driver for SQL Server is required before to install pyodbc**.\n",
    "\n",
    "Please follow the instructions to install the driver for your OS. See the [docs](https://learn.microsoft.com/en-us/sql/connect/odbc/microsoft-odbc-driver-for-sql-server) for details.\n",
    "\n",
    "To install run this command:\n",
    "```bash\n",
    "poetry add pyodbc\n",
    "```"
   ]
  },
  {
   "cell_type": "code",
   "execution_count": null,
   "metadata": {},
   "outputs": [],
   "source": [
    "import pyodbc\n",
    "\n",
    "sql_server_drivers = list(filter(lambda x: \"SQL Server\" in x, pyodbc.drivers()))\n",
    "conn_str = (\n",
    "    f\"DRIVER={{{sql_server_drivers[0]}}};\"\n",
    "    f'SERVER=tcp:{config[\"host\"]};PORT={config[\"port\"]};'\n",
    "    f'DATABASE={config[\"database\"]};'\n",
    "    f'UID={config[\"username\"]};'\n",
    "    f'PWD={config[\"password\"]}'\n",
    ")\n",
    "display(conn_str)\n",
    "\n",
    "with pyodbc.connect(conn_str) as conn:\n",
    "    with conn.cursor() as cursor:\n",
    "        rows = cursor.execute(\"SELECT * FROM INFORMATION_SCHEMA.TABLES WHERE TABLE_SCHEMA='dbo' AND TABLE_TYPE='BASE TABLE';\")\n",
    "        display(rows.fetchall())"
   ]
  },
  {
   "cell_type": "markdown",
   "metadata": {},
   "source": [
    "## PyTDS\n",
    "\n",
    "To install run this command:\n",
    "\n",
    "```bash\n",
    "poetry add python-tds\n",
    "```\n",
    "\n",
    "If you want to use TLS you should also install pyOpenSSL package:\n",
    "\n",
    "```bash\n",
    "poetry add pyOpenSSL\n",
    "```\n",
    "\n",
    "For a better performance install bitarray package too:\n",
    "\n",
    "```bash\n",
    "poetry add bitarray\n",
    "```\n",
    "\n",
    "To use Kerberos on non-Windows platforms (experimental) install kerberos package:\n",
    "\n",
    "```bash\n",
    "poetry add kerberos\n",
    "```"
   ]
  },
  {
   "cell_type": "markdown",
   "metadata": {},
   "source": [
    "## MiniAB\n",
    "\n",
    "**miniab** requires duckdb and pyarrow and they should be installed before to use it.\n",
    "\n",
    "To install duckdb and pyarrow run this command:\n",
    "\n",
    "```bash\n",
    "poetry add duckdb pyarrow\n",
    "```"
   ]
  },
  {
   "cell_type": "code",
   "execution_count": null,
   "metadata": {},
   "outputs": [
    {
     "data": {
      "text/plain": [
       "['source-snowflake', 'source-mssql']"
      ]
     },
     "metadata": {},
     "output_type": "display_data"
    },
    {
     "name": "stdout",
     "output_type": "stream",
     "text": [
      "\u001b[33;1mSync Progress: MsSqlSource -> DuckdbCache\u001b[0m\n",
      "\u001b[37;1mStarted reading from source at 15:24:29\u001b[0m\n",
      " * Received records for 32 streams:\n",
      "  - 71 Corner_Reference                  \n",
      "  - 117 Dic_Area2Brick                  \n",
      "  - 123 Dic_Area2Region                  \n",
      "  - 23 Dic_BusinessLogic                  \n",
      "  - 61,998 Dic_Customer                  \n",
      "  - 19 Dic_CustomerType                  \n",
      "  - 59 Dic_FIE_FIN2STMS_ProductMapping                  \n",
      "  - 56 Dic_FIE_FIN2STMS_SpiritCodeMapping                  \n",
      "  - 8 Dic_FIE_KDFile2STMS_ProductMapping                  \n",
      "  - 10 Dic_Parameter                  \n",
      "  - 832 Dic_Price                  \n",
      "  - 150 Dic_Product                  \n",
      "  - 506 Dic_ProductPrice                  \n",
      "  - 218 Dic_ProductType                  \n",
      "  - 2 Global_Configuration                  \n",
      "  - 5 Hierarchy                  \n",
      "  - 158 IS_Satisfaction_Survey_FY2223                  \n",
      "  - 41,625 Log_ScheduledProcess                  \n",
      "  - 25,566 Raw_DKSH                  \n",
      "  - 22 Ref_Activity2Score                  \n",
      "  - 56 Ref_ActivityPayRoll                  \n",
      "  - 12,559 Ref_EventCost                  \n",
      "  - 16 Ref_HCO_Type                  \n",
      "  - 10 Ref_HCP_Type                  \n",
      "  - 31 Ref_Specialty_1                  \n",
      "  - 1,351 U_Dic_Territory                  \n",
      "  - 1,120 U_Dic_Territory_Bonus                  \n",
      "  - 156 U_Holiday                  \n",
      "  - 1,572,312 Zeta_Data_MarketShare                  \n",
      "  - 400,000 ZetaData_Market (26%)\r"
     ]
    }
   ],
   "source": [
    "import duckdb\n",
    "import miniab as mab\n",
    "\n",
    "display(mab.get_available_connectors())\n",
    "\n",
    "source: mab.Source = mab.get_source(\n",
    "    \"source-mssql\",\n",
    "    config = config,\n",
    "    sync = True\n",
    ")\n",
    "\n",
    "source.select_all_streams()\n",
    "result = source.read(force_full_refresh=True)\n",
    "\n",
    "tteam_tbl = result.to_arrow(\"TTeam\")\n",
    "duckdb.sql(\"SELECT * FROM tteam_tbl LIMIT 10;\").show()"
   ]
  },
  {
   "cell_type": "markdown",
   "metadata": {},
   "source": [
    "## PyAirByte\n",
    "\n",
    "PyAirByte requires docker and it should be installed before to use it.\n",
    "\n",
    "To install PyAirByte run this command:\n",
    "\n",
    "```bash\n",
    "poetry add airbyte\n",
    "```"
   ]
  },
  {
   "cell_type": "code",
   "execution_count": null,
   "metadata": {},
   "outputs": [],
   "source": [
    "import duckdb\n",
    "import airbyte as ab\n",
    "\n",
    "display(ab.get_available_connectors())\n",
    "\n",
    "source: ab.Source = ab.get_source(\n",
    "    \"source-mssql\",\n",
    "    config = config\n",
    ")\n",
    "\n",
    "source.select_all_streams()\n",
    "result = source.read()\n",
    "\n",
    "tteam_tbl = result.to_arrow(\"\")\n",
    "duckdb.sql(\"SELECT * FROM tteam_tbl LIMIT 10;\").show()"
   ]
  }
 ],
 "metadata": {
  "kernelspec": {
   "display_name": "kernel-py311",
   "language": "python",
   "name": "kernel-py311"
  },
  "language_info": {
   "codemirror_mode": {
    "name": "ipython",
    "version": 3
   },
   "file_extension": ".py",
   "mimetype": "text/x-python",
   "name": "python",
   "nbconvert_exporter": "python",
   "pygments_lexer": "ipython3",
   "version": "3.11.7"
  }
 },
 "nbformat": 4,
 "nbformat_minor": 2
}
