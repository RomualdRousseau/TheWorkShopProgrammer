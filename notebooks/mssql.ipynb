{
 "cells": [
  {
   "cell_type": "code",
   "execution_count": null,
   "metadata": {},
   "outputs": [],
   "source": [
    "%pip install --quiet python-tds pyOpenSSL bitarray\n",
    "%pip install --quiet pyodbc"
   ]
  },
  {
   "cell_type": "code",
   "execution_count": 2,
   "metadata": {},
   "outputs": [],
   "source": [
    "config = {\n",
    "    \"server\": \"ap50-tst-datal-sqlmi01.33b9b5988eba.database.windows.net\",\n",
    "    \"database\": \"STMS_DataLake_VN\",\n",
    "    \"uid\": \"datafactory\",\n",
    "    \"pwd\": \"7TE7rxMnTwM9V\",\n",
    "}"
   ]
  },
  {
   "cell_type": "code",
   "execution_count": null,
   "metadata": {},
   "outputs": [],
   "source": [
    "import pyodbc\n",
    "\n",
    "drivers = pyodbc.drivers()\n",
    "conn_str = (f'DRIVER={{{drivers[0]}}};'\n",
    "         f'SERVER=tcp:{config[\"server\"]};PORT=1433;'\n",
    "         f'DATABASE={config[\"database\"]};'\n",
    "         f'UID={config[\"uid\"]};'\n",
    "         f'PWD={config[\"pwd\"]}'\n",
    "        )\n",
    "display(conn_str)\n",
    "\n",
    "with pyodbc.connect(conn_str) as conn:\n",
    "    with conn.cursor() as cursor:\n",
    "        cursor.execute(\"select 1\")"
   ]
  },
  {
   "cell_type": "code",
   "execution_count": null,
   "metadata": {},
   "outputs": [],
   "source": [
    "import pytds\n",
    "\n",
    "with pytds.connect(dsn=config[\"server\"], database=config[\"database\"], user=config[\"uid\"], password=config[\"pwd\"]) as conn:\n",
    "    with conn.cursor() as cursor:\n",
    "        cursor.execute(\"select 1\")"
   ]
  },
  {
   "cell_type": "code",
   "execution_count": null,
   "metadata": {},
   "outputs": [],
   "source": [
    "source = "
   ]
  }
 ],
 "metadata": {
  "kernelspec": {
   "display_name": ".venv",
   "language": "python",
   "name": "python3"
  },
  "language_info": {
   "codemirror_mode": {
    "name": "ipython",
    "version": 3
   },
   "file_extension": ".py",
   "mimetype": "text/x-python",
   "name": "python",
   "nbconvert_exporter": "python",
   "pygments_lexer": "ipython3",
   "version": "3.11.4"
  }
 },
 "nbformat": 4,
 "nbformat_minor": 2
}
