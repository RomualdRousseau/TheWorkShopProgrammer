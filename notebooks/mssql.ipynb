{
 "cells": [
  {
   "cell_type": "markdown",
   "metadata": {},
   "source": [
    "# Tests MSSQL Python\n",
    "\n",
    "Frist create a .env file:\n",
    "\n",
    "```env\n",
    "MSSQL_SERVER=\"...\"\n",
    "MSSQL_DATABASE=\"...\"\n",
    "MSSQL_UID=\"...\"\n",
    "MSSQL_PWD=\"...\"\n",
    "```"
   ]
  },
  {
   "cell_type": "code",
   "execution_count": 15,
   "metadata": {},
   "outputs": [],
   "source": [
    "%reload_ext dotenv\n",
    "%dotenv\n",
    "\n",
    "import os\n",
    "\n",
    "config = {\n",
    "    \"host\": os.getenv(\"MSSQL_HOST\"),\n",
    "    \"port\": os.getenv(\"MSSQL_PORT\"),\n",
    "    \"database\": os.getenv(\"MSSQL_DATABASE\"),\n",
    "    \"schema\": os.getenv(\"MSSQL_SCHEMA\"),\n",
    "    \"username\": os.getenv(\"MSSQL_USERNAME\"),\n",
    "    \"password\": os.getenv(\"MSSQL_PASSWORD\"),\n",
    "}"
   ]
  },
  {
   "cell_type": "markdown",
   "metadata": {},
   "source": [
    "## PyODBC\n",
    "\n",
    "**Microsoft ODBC Driver for SQL Server is required before to install pyodbc**.\n",
    "\n",
    "Please follow the instructions to install the driver for your OS. See the [docs](https://learn.microsoft.com/en-us/sql/connect/odbc/microsoft-odbc-driver-for-sql-server) for details.\n",
    "\n",
    "To install run this command:\n",
    "```bash\n",
    "poetry add pyodbc\n",
    "```"
   ]
  },
  {
   "cell_type": "code",
   "execution_count": null,
   "metadata": {},
   "outputs": [],
   "source": [
    "import pyodbc\n",
    "\n",
    "sql_server_drivers = list(filter(lambda x: \"SQL Server\" in x, pyodbc.drivers()))\n",
    "conn_str = (\n",
    "    f\"DRIVER={{{sql_server_drivers[0]}}};\"\n",
    "    f'SERVER=tcp:{config[\"host\"]};PORT={config[\"port\"]};'\n",
    "    f'DATABASE={config[\"database\"]};'\n",
    "    f'UID={config[\"username\"]};'\n",
    "    f'PWD={config[\"password\"]}'\n",
    ")\n",
    "display(conn_str)\n",
    "\n",
    "with pyodbc.connect(conn_str) as conn:\n",
    "    with conn.cursor() as cursor:\n",
    "        rows = cursor.execute(\"SELECT * FROM INFORMATION_SCHEMA.TABLES WHERE TABLE_TYPE='BASE TABLE';\")\n",
    "        # for row in rows:\n",
    "        #     display(row[2])\n",
    "        for column in rows.columns():\n",
    "            display(column)"
   ]
  },
  {
   "cell_type": "markdown",
   "metadata": {},
   "source": [
    "## PyTDS\n",
    "\n",
    "To install run this command:\n",
    "\n",
    "```bash\n",
    "poetry add python-tds\n",
    "```\n",
    "\n",
    "If you want to use TLS you should also install pyOpenSSL package:\n",
    "\n",
    "```bash\n",
    "poetry add pyOpenSSL\n",
    "```\n",
    "\n",
    "For a better performance install bitarray package too:\n",
    "\n",
    "```bash\n",
    "poetry add bitarray\n",
    "```\n",
    "\n",
    "To use Kerberos on non-Windows platforms (experimental) install kerberos package:\n",
    "\n",
    "```bash\n",
    "poetry add kerberos\n",
    "```"
   ]
  },
  {
   "cell_type": "markdown",
   "metadata": {},
   "source": [
    "## MiniAB\n",
    "\n",
    "**miniab** requires duckdb and pyarrow and they should be installed before to use it.\n",
    "\n",
    "To install duckdb and pyarrow run this command:\n",
    "\n",
    "```bash\n",
    "poetry add duckdb pyarrow\n",
    "```"
   ]
  },
  {
   "cell_type": "code",
   "execution_count": null,
   "metadata": {},
   "outputs": [],
   "source": [
    "import duckdb\n",
    "import miniab as mab\n",
    "\n",
    "source = mab.get_source(\n",
    "    \"source-mssql\",\n",
    "    config = config,\n",
    "    sync = True\n",
    ")\n",
    "source.select_all_streams()\n",
    "source.check()\n",
    "\n",
    "cache = mab.get_default_cache()\n",
    "result = source.read(cache=cache)\n",
    "\n",
    "tteam_tbl = result.to_arrow(\"TTeam\")\n",
    "duckdb.sql(\"SELECT * FROM tteam_tbl LIMIT 10;\").show()"
   ]
  },
  {
   "cell_type": "code",
   "execution_count": 14,
   "metadata": {},
   "outputs": [
    {
     "name": "stdout",
     "output_type": "stream",
     "text": [
      "Writing `source-mssql` logs to file: /tmp/airbyte/logs/source-mssql/source-mssql-log-J9WRVNR8N.log\n"
     ]
    },
    {
     "data": {
      "text/html": [
       "<pre style=\"white-space:pre;overflow-x:auto;line-height:normal;font-family:Menlo,'DejaVu Sans Mono',consolas,'Courier New',monospace\">ERROR: Something went wrong in the connector. See the logs for more details.\n",
       "</pre>\n"
      ],
      "text/plain": [
       "ERROR: Something went wrong in the connector. See the logs for more details.\n"
      ]
     },
     "metadata": {},
     "output_type": "display_data"
    },
    {
     "ename": "AirbyteConnectorFailedError",
     "evalue": "Connector failed. (AirbyteConnectorFailedError)\n------------------------------------------------------------\nAirbyteConnectorFailedError: Connector failed.\n    Please review the log file for more information.\n    Connector Name: 'source-mssql'\n    Exit Code: 1\n    Log file: /tmp/airbyte/logs/source-mssql/source-mssql-log-J9WRVNR8N.log",
     "output_type": "error",
     "traceback": [
      "\u001b[0;31m---------------------------------------------------------------------------\u001b[0m",
      "\u001b[0;31mAirbyteConnectorFailedError\u001b[0m               Traceback (most recent call last)",
      "Cell \u001b[0;32mIn[14], line 8\u001b[0m\n\u001b[1;32m      2\u001b[0m \u001b[38;5;28;01mimport\u001b[39;00m \u001b[38;5;21;01mairbyte\u001b[39;00m \u001b[38;5;28;01mas\u001b[39;00m \u001b[38;5;21;01mab\u001b[39;00m\n\u001b[1;32m      4\u001b[0m source \u001b[38;5;241m=\u001b[39m ab\u001b[38;5;241m.\u001b[39mget_source(\n\u001b[1;32m      5\u001b[0m     \u001b[38;5;124m\"\u001b[39m\u001b[38;5;124msource-mssql\u001b[39m\u001b[38;5;124m\"\u001b[39m,\n\u001b[1;32m      6\u001b[0m     config \u001b[38;5;241m=\u001b[39m config\n\u001b[1;32m      7\u001b[0m )\n\u001b[0;32m----> 8\u001b[0m \u001b[43msource\u001b[49m\u001b[38;5;241;43m.\u001b[39;49m\u001b[43mselect_all_streams\u001b[49m\u001b[43m(\u001b[49m\u001b[43m)\u001b[49m\n\u001b[1;32m      9\u001b[0m source\u001b[38;5;241m.\u001b[39mcheck()\n\u001b[1;32m     11\u001b[0m cache \u001b[38;5;241m=\u001b[39m ab\u001b[38;5;241m.\u001b[39mget_default_cache()\n",
      "File \u001b[0;32m~/Projects/Tutorials/.venv/lib/python3.11/site-packages/airbyte/sources/base.py:124\u001b[0m, in \u001b[0;36mSource.select_all_streams\u001b[0;34m(self)\u001b[0m\n\u001b[1;32m    121\u001b[0m     \u001b[38;5;28mself\u001b[39m\u001b[38;5;241m.\u001b[39m_log_warning_preselected_stream(\u001b[38;5;28mself\u001b[39m\u001b[38;5;241m.\u001b[39m_to_be_selected_streams)\n\u001b[1;32m    122\u001b[0m     \u001b[38;5;28;01mreturn\u001b[39;00m\n\u001b[0;32m--> 124\u001b[0m \u001b[38;5;28mself\u001b[39m\u001b[38;5;241m.\u001b[39m_selected_stream_names \u001b[38;5;241m=\u001b[39m \u001b[38;5;28;43mself\u001b[39;49m\u001b[38;5;241;43m.\u001b[39;49m\u001b[43mget_available_streams\u001b[49m\u001b[43m(\u001b[49m\u001b[43m)\u001b[49m\n",
      "File \u001b[0;32m~/Projects/Tutorials/.venv/lib/python3.11/site-packages/airbyte/sources/base.py:219\u001b[0m, in \u001b[0;36mSource.get_available_streams\u001b[0;34m(self)\u001b[0m\n\u001b[1;32m    217\u001b[0m \u001b[38;5;28;01mdef\u001b[39;00m \u001b[38;5;21mget_available_streams\u001b[39m(\u001b[38;5;28mself\u001b[39m) \u001b[38;5;241m-\u001b[39m\u001b[38;5;241m>\u001b[39m \u001b[38;5;28mlist\u001b[39m[\u001b[38;5;28mstr\u001b[39m]:\n\u001b[1;32m    218\u001b[0m \u001b[38;5;250m    \u001b[39m\u001b[38;5;124;03m\"\"\"Get the available streams from the spec.\"\"\"\u001b[39;00m\n\u001b[0;32m--> 219\u001b[0m     \u001b[38;5;28;01mreturn\u001b[39;00m [s\u001b[38;5;241m.\u001b[39mname \u001b[38;5;28;01mfor\u001b[39;00m s \u001b[38;5;129;01min\u001b[39;00m \u001b[38;5;28;43mself\u001b[39;49m\u001b[38;5;241;43m.\u001b[39;49m\u001b[43mdiscovered_catalog\u001b[49m\u001b[38;5;241m.\u001b[39mstreams]\n",
      "File \u001b[0;32m~/Projects/Tutorials/.venv/lib/python3.11/site-packages/airbyte/sources/base.py:325\u001b[0m, in \u001b[0;36mSource.discovered_catalog\u001b[0;34m(self)\u001b[0m\n\u001b[1;32m    320\u001b[0m \u001b[38;5;250m\u001b[39m\u001b[38;5;124;03m\"\"\"Get the raw catalog for the given streams.\u001b[39;00m\n\u001b[1;32m    321\u001b[0m \n\u001b[1;32m    322\u001b[0m \u001b[38;5;124;03mIf the catalog is not yet known, we call discover to get it.\u001b[39;00m\n\u001b[1;32m    323\u001b[0m \u001b[38;5;124;03m\"\"\"\u001b[39;00m\n\u001b[1;32m    324\u001b[0m \u001b[38;5;28;01mif\u001b[39;00m \u001b[38;5;28mself\u001b[39m\u001b[38;5;241m.\u001b[39m_discovered_catalog \u001b[38;5;129;01mis\u001b[39;00m \u001b[38;5;28;01mNone\u001b[39;00m:\n\u001b[0;32m--> 325\u001b[0m     \u001b[38;5;28mself\u001b[39m\u001b[38;5;241m.\u001b[39m_discovered_catalog \u001b[38;5;241m=\u001b[39m \u001b[38;5;28;43mself\u001b[39;49m\u001b[38;5;241;43m.\u001b[39;49m\u001b[43m_discover\u001b[49m\u001b[43m(\u001b[49m\u001b[43m)\u001b[49m\n\u001b[1;32m    327\u001b[0m \u001b[38;5;28;01mreturn\u001b[39;00m \u001b[38;5;28mself\u001b[39m\u001b[38;5;241m.\u001b[39m_discovered_catalog\n",
      "File \u001b[0;32m~/Projects/Tutorials/.venv/lib/python3.11/site-packages/airbyte/sources/base.py:209\u001b[0m, in \u001b[0;36mSource._discover\u001b[0;34m(self)\u001b[0m\n\u001b[1;32m    200\u001b[0m \u001b[38;5;250m\u001b[39m\u001b[38;5;124;03m\"\"\"Call discover on the connector.\u001b[39;00m\n\u001b[1;32m    201\u001b[0m \n\u001b[1;32m    202\u001b[0m \u001b[38;5;124;03mThis involves the following steps:\u001b[39;00m\n\u001b[0;32m   (...)\u001b[0m\n\u001b[1;32m    206\u001b[0m \u001b[38;5;124;03m- Make sure the subprocess is killed when the function returns.\u001b[39;00m\n\u001b[1;32m    207\u001b[0m \u001b[38;5;124;03m\"\"\"\u001b[39;00m\n\u001b[1;32m    208\u001b[0m \u001b[38;5;28;01mwith\u001b[39;00m as_temp_files([\u001b[38;5;28mself\u001b[39m\u001b[38;5;241m.\u001b[39m_config]) \u001b[38;5;28;01mas\u001b[39;00m [config_file]:\n\u001b[0;32m--> 209\u001b[0m \u001b[43m    \u001b[49m\u001b[38;5;28;43;01mfor\u001b[39;49;00m\u001b[43m \u001b[49m\u001b[43mmsg\u001b[49m\u001b[43m \u001b[49m\u001b[38;5;129;43;01min\u001b[39;49;00m\u001b[43m \u001b[49m\u001b[38;5;28;43mself\u001b[39;49m\u001b[38;5;241;43m.\u001b[39;49m\u001b[43m_execute\u001b[49m\u001b[43m(\u001b[49m\u001b[43m[\u001b[49m\u001b[38;5;124;43m\"\u001b[39;49m\u001b[38;5;124;43mdiscover\u001b[39;49m\u001b[38;5;124;43m\"\u001b[39;49m\u001b[43m,\u001b[49m\u001b[43m \u001b[49m\u001b[38;5;124;43m\"\u001b[39;49m\u001b[38;5;124;43m--config\u001b[39;49m\u001b[38;5;124;43m\"\u001b[39;49m\u001b[43m,\u001b[49m\u001b[43m \u001b[49m\u001b[43mconfig_file\u001b[49m\u001b[43m]\u001b[49m\u001b[43m)\u001b[49m\u001b[43m:\u001b[49m\n\u001b[1;32m    210\u001b[0m \u001b[43m        \u001b[49m\u001b[38;5;28;43;01mif\u001b[39;49;00m\u001b[43m \u001b[49m\u001b[43mmsg\u001b[49m\u001b[38;5;241;43m.\u001b[39;49m\u001b[43mtype\u001b[49m\u001b[43m \u001b[49m\u001b[38;5;241;43m==\u001b[39;49m\u001b[43m \u001b[49m\u001b[43mType\u001b[49m\u001b[38;5;241;43m.\u001b[39;49m\u001b[43mCATALOG\u001b[49m\u001b[43m \u001b[49m\u001b[38;5;129;43;01mand\u001b[39;49;00m\u001b[43m \u001b[49m\u001b[43mmsg\u001b[49m\u001b[38;5;241;43m.\u001b[39;49m\u001b[43mcatalog\u001b[49m\u001b[43m:\u001b[49m\n\u001b[1;32m    211\u001b[0m \u001b[43m            \u001b[49m\u001b[38;5;28;43;01mreturn\u001b[39;49;00m\u001b[43m \u001b[49m\u001b[43mmsg\u001b[49m\u001b[38;5;241;43m.\u001b[39;49m\u001b[43mcatalog\u001b[49m\n",
      "File \u001b[0;32m~/Projects/Tutorials/.venv/lib/python3.11/site-packages/airbyte/_connector_base.py:440\u001b[0m, in \u001b[0;36mConnectorBase._execute\u001b[0;34m(self, args, stdin, progress_tracker)\u001b[0m\n\u001b[1;32m    436\u001b[0m             \u001b[38;5;28mself\u001b[39m\u001b[38;5;241m.\u001b[39m_print_info_message(line)\n\u001b[1;32m    438\u001b[0m \u001b[38;5;28;01mexcept\u001b[39;00m exc\u001b[38;5;241m.\u001b[39mAirbyteSubprocessFailedError \u001b[38;5;28;01mas\u001b[39;00m ex:\n\u001b[1;32m    439\u001b[0m     \u001b[38;5;66;03m# Generic subprocess failure, so raise a connector error.\u001b[39;00m\n\u001b[0;32m--> 440\u001b[0m     \u001b[38;5;28;01mraise\u001b[39;00m exc\u001b[38;5;241m.\u001b[39mAirbyteConnectorFailedError(\n\u001b[1;32m    441\u001b[0m         connector_name\u001b[38;5;241m=\u001b[39m\u001b[38;5;28mself\u001b[39m\u001b[38;5;241m.\u001b[39mname,\n\u001b[1;32m    442\u001b[0m         log_text\u001b[38;5;241m=\u001b[39mex\u001b[38;5;241m.\u001b[39mlog_text,\n\u001b[1;32m    443\u001b[0m         context\u001b[38;5;241m=\u001b[39m{\n\u001b[1;32m    444\u001b[0m             \u001b[38;5;124m\"\u001b[39m\u001b[38;5;124mexit_code\u001b[39m\u001b[38;5;124m\"\u001b[39m: ex\u001b[38;5;241m.\u001b[39mexit_code,\n\u001b[1;32m    445\u001b[0m         },\n\u001b[1;32m    446\u001b[0m     ) \u001b[38;5;28;01mfrom\u001b[39;00m \u001b[38;5;28;01mNone\u001b[39;00m\n\u001b[1;32m    447\u001b[0m \u001b[38;5;28;01mexcept\u001b[39;00m \u001b[38;5;167;01mException\u001b[39;00m \u001b[38;5;28;01mas\u001b[39;00m e:\n\u001b[1;32m    448\u001b[0m     \u001b[38;5;66;03m# This is an unexpected error, so wrap the original exception when raising.\u001b[39;00m\n\u001b[1;32m    449\u001b[0m     \u001b[38;5;28;01mraise\u001b[39;00m exc\u001b[38;5;241m.\u001b[39mAirbyteConnectorFailedError(\n\u001b[1;32m    450\u001b[0m         connector_name\u001b[38;5;241m=\u001b[39m\u001b[38;5;28mself\u001b[39m\u001b[38;5;241m.\u001b[39mname,\n\u001b[1;32m    451\u001b[0m         log_text\u001b[38;5;241m=\u001b[39m\u001b[38;5;28mself\u001b[39m\u001b[38;5;241m.\u001b[39m_last_log_messages,\n\u001b[1;32m    452\u001b[0m         original_exception\u001b[38;5;241m=\u001b[39me,\n\u001b[1;32m    453\u001b[0m     ) \u001b[38;5;28;01mfrom\u001b[39;00m \u001b[38;5;28;01mNone\u001b[39;00m\n",
      "\u001b[0;31mAirbyteConnectorFailedError\u001b[0m: Connector failed. (AirbyteConnectorFailedError)\n------------------------------------------------------------\nAirbyteConnectorFailedError: Connector failed.\n    Please review the log file for more information.\n    Connector Name: 'source-mssql'\n    Exit Code: 1\n    Log file: /tmp/airbyte/logs/source-mssql/source-mssql-log-J9WRVNR8N.log"
     ]
    }
   ],
   "source": [
    "import duckdb\n",
    "import airbyte as ab\n",
    "\n",
    "source = ab.get_source(\n",
    "    \"source-mssql\",\n",
    "    config = config\n",
    ")\n",
    "source.select_all_streams()\n",
    "source.check()\n",
    "\n",
    "cache = ab.get_default_cache()\n",
    "result = source.read(cache=cache)\n",
    "\n",
    "tteam_tbl = result.to_arrow(\"TTeam\")\n",
    "duckdb.sql(\"SELECT * FROM tteam_tbl LIMIT 10;\").show()"
   ]
  }
 ],
 "metadata": {
  "kernelspec": {
   "display_name": "kernel-py311",
   "language": "python",
   "name": "kernel-py311"
  },
  "language_info": {
   "codemirror_mode": {
    "name": "ipython",
    "version": 3
   },
   "file_extension": ".py",
   "mimetype": "text/x-python",
   "name": "python",
   "nbconvert_exporter": "python",
   "pygments_lexer": "ipython3",
   "version": "3.11.4"
  }
 },
 "nbformat": 4,
 "nbformat_minor": 2
}
