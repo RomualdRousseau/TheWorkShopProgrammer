{
 "cells": [
  {
   "cell_type": "markdown",
   "metadata": {},
   "source": [
    "# Tests MSSQL Python\n",
    "\n",
    "Frist create a .env file:\n",
    "\n",
    "```env\n",
    "MSSQL_HOST=\"...\"\n",
    "MSSQL_PORT=1433\n",
    "MSSQL_DATABASE=\"...\"\n",
    "MSSQL_SCHEMA=\"dbo\"\n",
    "MSSQL_USERNAME=\"...\"\n",
    "MSSQL_PASSWORD=\"...\"\n",
    "```"
   ]
  },
  {
   "cell_type": "code",
   "execution_count": 1,
   "metadata": {},
   "outputs": [],
   "source": [
    "%reload_ext dotenv\n",
    "%dotenv\n",
    "\n",
    "import os\n",
    "\n",
    "config = {\n",
    "    \"host\": os.getenv(\"MSSQL_HOST\"),\n",
    "    \"port\": int(os.getenv(\"MSSQL_PORT\") or 0),\n",
    "    \"database\": os.getenv(\"MSSQL_DATABASE\"),\n",
    "    \"schema\": os.getenv(\"MSSQL_SCHEMA\") or \"dbo\",\n",
    "    \"username\": os.getenv(\"MSSQL_USERNAME\"),\n",
    "    \"password\": os.getenv(\"MSSQL_PASSWORD\"),\n",
    "}"
   ]
  },
  {
   "cell_type": "markdown",
   "metadata": {},
   "source": [
    "## PyODBC\n",
    "\n",
    "**Microsoft ODBC Driver for SQL Server is required before to install pyodbc**.\n",
    "\n",
    "Please follow the instructions to install the driver for your OS. See the [docs](https://learn.microsoft.com/en-us/sql/connect/odbc/microsoft-odbc-driver-for-sql-server) for details.\n",
    "\n",
    "To install run this command:\n",
    "```bash\n",
    "poetry add pyodbc\n",
    "```"
   ]
  },
  {
   "cell_type": "code",
   "execution_count": null,
   "metadata": {},
   "outputs": [],
   "source": [
    "import pyodbc\n",
    "\n",
    "sql_server_drivers = list(filter(lambda x: \"SQL Server\" in x, pyodbc.drivers()))\n",
    "conn_str = (\n",
    "    f\"DRIVER={{{sql_server_drivers[0]}}};\"\n",
    "    f'SERVER=tcp:{config[\"host\"]};PORT={config[\"port\"]};'\n",
    "    f'DATABASE={config[\"database\"]};'\n",
    "    f'UID={config[\"username\"]};'\n",
    "    f'PWD={config[\"password\"]}'\n",
    ")\n",
    "display(conn_str)\n",
    "\n",
    "with pyodbc.connect(conn_str) as conn:\n",
    "    with conn.cursor() as cursor:\n",
    "        rows = cursor.execute(\"SELECT * FROM INFORMATION_SCHEMA.TABLES WHERE TABLE_TYPE='BASE TABLE';\")\n",
    "        # for row in rows:\n",
    "        #     display(row[2])\n",
    "        for column in rows.columns():\n",
    "            display(column)"
   ]
  },
  {
   "cell_type": "markdown",
   "metadata": {},
   "source": [
    "## PyTDS\n",
    "\n",
    "To install run this command:\n",
    "\n",
    "```bash\n",
    "poetry add python-tds\n",
    "```\n",
    "\n",
    "If you want to use TLS you should also install pyOpenSSL package:\n",
    "\n",
    "```bash\n",
    "poetry add pyOpenSSL\n",
    "```\n",
    "\n",
    "For a better performance install bitarray package too:\n",
    "\n",
    "```bash\n",
    "poetry add bitarray\n",
    "```\n",
    "\n",
    "To use Kerberos on non-Windows platforms (experimental) install kerberos package:\n",
    "\n",
    "```bash\n",
    "poetry add kerberos\n",
    "```"
   ]
  },
  {
   "cell_type": "markdown",
   "metadata": {},
   "source": [
    "## MiniAB\n",
    "\n",
    "**miniab** requires duckdb and pyarrow and they should be installed before to use it.\n",
    "\n",
    "To install duckdb and pyarrow run this command:\n",
    "\n",
    "```bash\n",
    "poetry add duckdb pyarrow\n",
    "```"
   ]
  },
  {
   "cell_type": "code",
   "execution_count": null,
   "metadata": {},
   "outputs": [],
   "source": [
    "import duckdb\n",
    "import miniab as mab\n",
    "\n",
    "source = mab.get_source(\n",
    "    \"source-mssql\",\n",
    "    config = config,\n",
    "    sync = True\n",
    ")\n",
    "source.select_streams(\"TTeam\")\n",
    "source.check()\n",
    "\n",
    "cache = mab.get_default_cache()\n",
    "result = source.read(cache=cache)\n",
    "\n",
    "tteam_tbl = result.to_arrow(\"TTeam\")\n",
    "duckdb.sql(\"SELECT * FROM tteam_tbl LIMIT 10;\").show()"
   ]
  },
  {
   "cell_type": "code",
   "execution_count": null,
   "metadata": {},
   "outputs": [],
   "source": [
    "import duckdb\n",
    "import airbyte as ab\n",
    "\n",
    "source = ab.get_source(\n",
    "    \"source-mssql\",\n",
    "    config = config\n",
    ")\n",
    "source.select_all_streams()\n",
    "source.check()\n",
    "\n",
    "cache = ab.get_default_cache()\n",
    "result = source.read(cache=cache)\n",
    "\n",
    "tteam_tbl = result.to_arrow(\"TTeam\")\n",
    "duckdb.sql(\"SELECT * FROM tteam_tbl LIMIT 10;\").show()"
   ]
  }
 ],
 "metadata": {
  "kernelspec": {
   "display_name": "kernel-py311",
   "language": "python",
   "name": "kernel-py311"
  },
  "language_info": {
   "codemirror_mode": {
    "name": "ipython",
    "version": 3
   },
   "file_extension": ".py",
   "mimetype": "text/x-python",
   "name": "python",
   "nbconvert_exporter": "python",
   "pygments_lexer": "ipython3",
   "version": "3.11.9"
  }
 },
 "nbformat": 4,
 "nbformat_minor": 2
}
