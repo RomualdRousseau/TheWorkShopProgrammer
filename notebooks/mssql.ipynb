{
 "cells": [
  {
   "cell_type": "markdown",
   "metadata": {},
   "source": [
    "# Tests MSSQL Python\n",
    "\n",
    "Frist create a .env file:\n",
    "\n",
    "```env\n",
    "MSSQL_HOST=\"...\"\n",
    "MSSQL_PORT=1433\n",
    "MSSQL_DATABASE=\"...\"\n",
    "MSSQL_SCHEMA=\"dbo\"\n",
    "MSSQL_USERNAME=\"...\"\n",
    "MSSQL_PASSWORD=\"...\"\n",
    "```"
   ]
  },
  {
   "cell_type": "code",
   "execution_count": 1,
   "metadata": {},
   "outputs": [],
   "source": [
    "%reload_ext dotenv\n",
    "%dotenv\n",
    "\n",
    "import os\n",
    "\n",
    "config = {\n",
    "    \"host\": os.getenv(\"MSSQL_HOST\"),\n",
    "    \"port\": int(os.getenv(\"MSSQL_PORT\") or 0),\n",
    "    \"database\": os.getenv(\"MSSQL_DATABASE\"),\n",
    "    \"schema\": os.getenv(\"MSSQL_SCHEMA\") or \"dbo\",\n",
    "    \"username\": os.getenv(\"MSSQL_USERNAME\"),\n",
    "    \"password\": os.getenv(\"MSSQL_PASSWORD\"),\n",
    "}"
   ]
  },
  {
   "cell_type": "markdown",
   "metadata": {},
   "source": [
    "## PyODBC\n",
    "\n",
    "**Microsoft ODBC Driver for SQL Server is required before to install pyodbc**.\n",
    "\n",
    "Please follow the instructions to install the driver for your OS. See the [docs](https://learn.microsoft.com/en-us/sql/connect/odbc/microsoft-odbc-driver-for-sql-server) for details.\n",
    "\n",
    "To install run this command:\n",
    "```bash\n",
    "poetry add pyodbc\n",
    "```"
   ]
  },
  {
   "cell_type": "code",
   "execution_count": null,
   "metadata": {},
   "outputs": [],
   "source": [
    "import pyodbc\n",
    "\n",
    "sql_server_drivers = list(filter(lambda x: \"SQL Server\" in x, pyodbc.drivers()))\n",
    "conn_str = (\n",
    "    f\"DRIVER={{{sql_server_drivers[0]}}};\"\n",
    "    f'SERVER=tcp:{config[\"host\"]};PORT={config[\"port\"]};'\n",
    "    f'DATABASE={config[\"database\"]};'\n",
    "    f'UID={config[\"username\"]};'\n",
    "    f'PWD={config[\"password\"]}'\n",
    ")\n",
    "display(conn_str)\n",
    "\n",
    "with pyodbc.connect(conn_str) as conn:\n",
    "    with conn.cursor() as cursor:\n",
    "        rows = cursor.execute(\n",
    "            f\"\"\"\n",
    "            SELECT\n",
    "                *\n",
    "            FROM\n",
    "                INFORMATION_SCHEMA.TABLES\n",
    "            WHERE\n",
    "                TABLE_CATALOG='{config['database']}'\n",
    "                AND TABLE_SCHEMA='dbo'\n",
    "                AND TABLE_TYPE='BASE TABLE';\n",
    "            \"\"\"\n",
    "        )\n",
    "        display(rows.fetchall())"
   ]
  },
  {
   "cell_type": "markdown",
   "metadata": {},
   "source": [
    "## PyTDS\n",
    "\n",
    "To install run this command:\n",
    "\n",
    "```bash\n",
    "poetry add python-tds\n",
    "```\n",
    "\n",
    "If you want to use TLS you should also install pyOpenSSL package:\n",
    "\n",
    "```bash\n",
    "poetry add pyOpenSSL\n",
    "```\n",
    "\n",
    "For a better performance install bitarray package too:\n",
    "\n",
    "```bash\n",
    "poetry add bitarray\n",
    "```\n",
    "\n",
    "To use Kerberos on non-Windows platforms (experimental) install kerberos package:\n",
    "\n",
    "```bash\n",
    "poetry add kerberos\n",
    "```"
   ]
  },
  {
   "cell_type": "markdown",
   "metadata": {},
   "source": [
    "## MiniAB\n",
    "\n",
    "**miniab** requires duckdb and pyarrow and they should be installed before to use it.\n",
    "\n",
    "To install duckdb and pyarrow run this command:\n",
    "\n",
    "```bash\n",
    "poetry add duckdb pyarrow\n",
    "```"
   ]
  },
  {
   "cell_type": "code",
   "execution_count": 10,
   "metadata": {},
   "outputs": [
    {
     "data": {
      "text/plain": [
       "['source-snowflake', 'source-mssql']"
      ]
     },
     "metadata": {},
     "output_type": "display_data"
    },
    {
     "name": "stdout",
     "output_type": "stream",
     "text": [
      "\u001b[33;1mSync Progress: MsSqlSource -> DuckdbCache\u001b[0m\n",
      "\u001b[37;1mStarted reading from source at 13:01:56\u001b[0m\n",
      " * Finished reading from source at 13:01:56.\n",
      "\u001b[37;1mSync completed at 13:01:56. Total time elapsed: 0:00:00.049717\u001b[0m\n",
      "┌────────┬────────────────┬────────────┬───────────┐\n",
      "│ TeamID │    TeamName    │ JobTitleID │ VersionID │\n",
      "│ int64  │    varchar     │   int64    │   int64   │\n",
      "├────────┼────────────────┼────────────┼───────────┤\n",
      "│      2 │ EMERALD        │          5 │         1 │\n",
      "│      3 │ RUBY-PROVINCES │          5 │         1 │\n",
      "│      4 │ SAPHIRE        │          5 │         1 │\n",
      "│      5 │ TOPAZ          │          5 │         1 │\n",
      "│      6 │ JADE           │          5 │         1 │\n",
      "│      7 │ JASPER         │          5 │         1 │\n",
      "│      8 │ RUBY           │          5 │         1 │\n",
      "│     10 │ PKAS           │          8 │         1 │\n",
      "│     22 │ KAS            │          4 │         1 │\n",
      "│     24 │ HKAS           │          7 │         1 │\n",
      "│      · │  ·             │          · │         · │\n",
      "│      · │  ·             │          · │         · │\n",
      "│      · │  ·             │          · │         · │\n",
      "│    204 │ MEDICAL        │          5 │        30 │\n",
      "│    205 │ KAS            │          7 │        30 │\n",
      "│    206 │ VD_PHAR        │          8 │        30 │\n",
      "│    207 │ HT             │          5 │        31 │\n",
      "│    208 │ INT            │          5 │        31 │\n",
      "│    209 │ INT1           │          5 │        31 │\n",
      "│    210 │ INT2           │          5 │        31 │\n",
      "│    211 │ KAS            │          7 │        31 │\n",
      "│    212 │ ESS            │          5 │        31 │\n",
      "│    213 │ RETAIL         │          8 │        31 │\n",
      "├────────┴────────────────┴────────────┴───────────┤\n",
      "│ 158 rows (20 shown)                    4 columns │\n",
      "└──────────────────────────────────────────────────┘\n",
      "\n"
     ]
    }
   ],
   "source": [
    "import duckdb\n",
    "import miniab as mab\n",
    "\n",
    "display(mab.get_available_connectors())\n",
    "\n",
    "result = mab.get_source(\"source-mssql\", config=config, streams=\"*\").read()\n",
    "\n",
    "tteam_tbl = result.to_arrow(\"TTeam\")\n",
    "duckdb.sql(\"SELECT * FROM tteam_tbl;\").show()"
   ]
  },
  {
   "cell_type": "markdown",
   "metadata": {},
   "source": [
    "## PyAirByte\n",
    "\n",
    "PyAirByte requires docker and it should be installed before to use it.\n",
    "\n",
    "To install PyAirByte run this command:\n",
    "\n",
    "```bash\n",
    "poetry add airbyte\n",
    "```"
   ]
  },
  {
   "cell_type": "code",
   "execution_count": null,
   "metadata": {},
   "outputs": [],
   "source": [
    "import airbyte as ab\n",
    "import duckdb\n",
    "\n",
    "display(ab.get_available_connectors())\n",
    "\n",
    "result = mab.get_source(\"source-mssql\", config=config, streams=\"*\").read()\n",
    "\n",
    "tteam_tbl = result.to_arrow(\"TTeam\")\n",
    "duckdb.sql(\"SELECT * FROM tteam_tbl LIMIT 10;\").show()"
   ]
  }
 ],
 "metadata": {
  "kernelspec": {
   "display_name": "kernel-py311",
   "language": "python",
   "name": "kernel-py311"
  },
  "language_info": {
   "codemirror_mode": {
    "name": "ipython",
    "version": 3
   },
   "file_extension": ".py",
   "mimetype": "text/x-python",
   "name": "python",
   "nbconvert_exporter": "python",
   "pygments_lexer": "ipython3",
   "version": "3.11.10"
  }
 },
 "nbformat": 4,
 "nbformat_minor": 2
}
